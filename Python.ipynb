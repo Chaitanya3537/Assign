{
 "cells": [
  {
   "cell_type": "code",
   "execution_count": 20,
   "metadata": {},
   "outputs": [
    {
     "name": "stdout",
     "output_type": "stream",
     "text": [
      "Last three characters: nya\n"
     ]
    }
   ],
   "source": [
    "# 1.Given a string, write a Python program to extract the last three characters from the string and print them\n",
    "\n",
    "string = \"Chaitanya\"\n",
    "\n",
    "print(\"Last three characters:\", string[-3:])"
   ]
  },
  {
   "cell_type": "code",
   "execution_count": 21,
   "metadata": {},
   "outputs": [
    {
     "name": "stdout",
     "output_type": "stream",
     "text": [
      "Modified string: HeLLoHeLLo\n"
     ]
    }
   ],
   "source": [
    "# 2. You are given a string. Write a Python program to replace all occurrences of the character 'l' (lowercase L) with 'L' (uppercase L) and \n",
    "      # print the modified string.\n",
    "\n",
    "string1 = \"HelloHello\"\n",
    "\n",
    "string2 = string1.replace('l', 'L')\n",
    "\n",
    "print(\"Modified string:\", string2)\n",
    "\n",
    "\n"
   ]
  },
  {
   "cell_type": "code",
   "execution_count": 24,
   "metadata": {},
   "outputs": [
    {
     "name": "stdout",
     "output_type": "stream",
     "text": [
      "False\n"
     ]
    }
   ],
   "source": [
    "# 3. Write a Python program to check if a given integer is even. If the integer is even, print True; otherwise, print False \n",
    "\n",
    "x = int(input(\"Enter an integer: \")) \n",
    "\n",
    "if x % 2 == 0:  \n",
    "    print(True)  \n",
    "else:\n",
    "    print(False)  \n"
   ]
  },
  {
   "cell_type": "code",
   "execution_count": 27,
   "metadata": {},
   "outputs": [
    {
     "name": "stdout",
     "output_type": "stream",
     "text": [
      "True\n"
     ]
    }
   ],
   "source": [
    "# 4. Write a Python program to check if a given integer is divisible by both 3 and 5. \n",
    "   # If the integer is divisible by both, print True; otherwise, print False\n",
    "\n",
    "x = int(input(\"Enter an integer: \"))  \n",
    "\n",
    "if x % 3 == 0 and x % 5 == 0:  \n",
    "    print(True)  \n",
    "else:\n",
    "    print(False)  \n"
   ]
  },
  {
   "cell_type": "code",
   "execution_count": 33,
   "metadata": {},
   "outputs": [
    {
     "name": "stdout",
     "output_type": "stream",
     "text": [
      "orange Banana Banana Banana Banana.\n"
     ]
    }
   ],
   "source": [
    "# 5. Given a string containing multiple occurrences of the word 'banana', \n",
    "# write a Python program to replace only the first occurrence of 'banana' with 'orange' and print the modified string.\n",
    "\n",
    "string1 = \"Banana Banana Banana Banana Banana.\"\n",
    "\n",
    "string2 = string1.replace('Banana', 'orange', 1)\n",
    "\n",
    "print(string2)\n"
   ]
  },
  {
   "cell_type": "code",
   "execution_count": 39,
   "metadata": {},
   "outputs": [
    {
     "name": "stdout",
     "output_type": "stream",
     "text": [
      "14.142135623730951\n"
     ]
    }
   ],
   "source": [
    "# 6. Given two tuples representing coordinates (x, y) of two points, write a Python program to calculate the Euclidean distance between them.\n",
    "\n",
    "import math\n",
    "\n",
    "a = (10, 20)\n",
    "b = (20, 30)\n",
    "\n",
    "print(math.sqrt((b[0] - a[0])**2 + (b[1] - a[1])**2))\n"
   ]
  },
  {
   "cell_type": "code",
   "execution_count": 40,
   "metadata": {},
   "outputs": [
    {
     "name": "stdout",
     "output_type": "stream",
     "text": [
      "Set containing common elements: {'A', 'L', 'E', 'P'}\n"
     ]
    }
   ],
   "source": [
    "#. 7 Write a Python program that takes two sets as input and returns a new set containing only the elements that are common to both sets.\n",
    "\n",
    "setA = {\"A\", \"P\", \"P\", \"L\", \"E\"}\n",
    "setB = {\"P\", \"I\", \"N\", \"E\", \"A\", \"P\", \"P\", \"L\", \"E\"}\n",
    "\n",
    "setNew = setA & setB\n",
    "\n",
    "print(\"Set containing common elements:\", setNew)\n"
   ]
  },
  {
   "cell_type": "code",
   "execution_count": 1,
   "metadata": {},
   "outputs": [
    {
     "name": "stdout",
     "output_type": "stream",
     "text": [
      "Student  Krishna  got highest grade \n"
     ]
    }
   ],
   "source": [
    "# 8. You are given a dictionary containing student names as keys and their corresponding grades as values. \n",
    "# Write a Python program to find and print the names of students who scored the highest grade.\n",
    "\n",
    "data = {\"Chaitanya\":96, \"Sai\":97, \"Krishna\":98}\n",
    "\n",
    "m = max(data, key=data.get)\n",
    "\n",
    "print(\"Student \",m,\" got highest grade \")\n",
    "\n"
   ]
  },
  {
   "cell_type": "code",
   "execution_count": 3,
   "metadata": {},
   "outputs": [
    {
     "name": "stdout",
     "output_type": "stream",
     "text": [
      "0  is zero\n"
     ]
    }
   ],
   "source": [
    "# 9. Write a Python program that takes an integer input from the user and prints whether it is positive, negative, or zero.\n",
    "\n",
    "num = int(input(\"Enter any integer  : \"))\n",
    "\n",
    "if num>0:\n",
    "    print(num,\" is positive\")\n",
    "\n",
    "elif num<0:\n",
    "    print(num,\" is negative\")\n",
    "    \n",
    "else:\n",
    "    print(num,\" is zero\")"
   ]
  },
  {
   "cell_type": "code",
   "execution_count": 4,
   "metadata": {},
   "outputs": [
    {
     "name": "stdout",
     "output_type": "stream",
     "text": [
      "Factorial: 120\n"
     ]
    }
   ],
   "source": [
    "# 10. Write a Python program to calculate the factorial of a given number using a while loop.\n",
    "\n",
    "num = 5\n",
    "fact = 1\n",
    "\n",
    "while num > 0:\n",
    "    fact = fact * num\n",
    "    num = num - 1\n",
    "\n",
    "print(\"Factorial:\", fact)\n"
   ]
  },
  {
   "cell_type": "code",
   "execution_count": 5,
   "metadata": {},
   "outputs": [
    {
     "name": "stdout",
     "output_type": "stream",
     "text": [
      "Square of 2 is 4\n",
      "Square of 3 is 9\n",
      "Square of 4 is 16\n"
     ]
    }
   ],
   "source": [
    "#11.  Write a Python program that takes a list of numbers as input and prints the square of each number using a for loop\n",
    "\n",
    "list = input(\"Enter any list: \").split()\n",
    "\n",
    "for i in list:\n",
    "\n",
    "    res = int(i) ** 2\n",
    "\n",
    "    print(\"Square of\", i, \"is\", res)\n"
   ]
  },
  {
   "cell_type": "code",
   "execution_count": 10,
   "metadata": {},
   "outputs": [
    {
     "name": "stdout",
     "output_type": "stream",
     "text": [
      "Sum: 3\n"
     ]
    }
   ],
   "source": [
    "#12. Write a Python function that takes two numbers as input and returns their sum.\n",
    "\n",
    "def sum(a, b):\n",
    "    return a+b\n",
    "    \n",
    "a = int(input(\"Enter the first number: \"))\n",
    "b = int(input(\"Enter the second number: \"))\n",
    "\n",
    "print(\"Sum:\", sum(a, b))\n",
    "\n"
   ]
  },
  {
   "cell_type": "code",
   "execution_count": 7,
   "metadata": {},
   "outputs": [
    {
     "name": "stdout",
     "output_type": "stream",
     "text": [
      "Maximum height: 600\n",
      "Minimum height: 100\n"
     ]
    }
   ],
   "source": [
    "#13. Given a tuple containing the heights of students, write a Python program to find and print the maximum and minimum height.\n",
    "\n",
    "\n",
    "heights = (100, 200, 300, 400, 500, 600)\n",
    "\n",
    "print(\"Maximum height:\", max(heights))\n",
    "\n",
    "print(\"Minimum height:\", min(heights))\n"
   ]
  },
  {
   "cell_type": "code",
   "execution_count": 8,
   "metadata": {},
   "outputs": [
    {
     "name": "stdout",
     "output_type": "stream",
     "text": [
      "set2 is a subset of set1\n"
     ]
    }
   ],
   "source": [
    "#14. Write a Python program to check if a given set is a subset of another set.\n",
    "\n",
    "set1 = {10, 20, 30, 40, 50, 60}\n",
    "set2 = {20, 40, 60}\n",
    "\n",
    "if set2 <= set1:\n",
    "    \n",
    "    print(\"set2 is a subset of set1\")\n",
    "else:\n",
    "    print(\"set2 is not a subset of set1\")\n"
   ]
  },
  {
   "cell_type": "code",
   "execution_count": 9,
   "metadata": {},
   "outputs": [
    {
     "name": "stdout",
     "output_type": "stream",
     "text": [
      "Combined Dictionary: {'apple': 10, 'ball': 3, 'cat': 8, 'dog': 6, 'elephant': 2}\n"
     ]
    }
   ],
   "source": [
    "#15. You are given two dictionaries representing the inventory of two stores. Write a Python program to merge the inventories and \n",
    "#  print the combined inventory.\n",
    "\n",
    "dict1 = {'apple': 10, 'ball': 9, 'cat': 8}\n",
    "\n",
    "dict2 = {'ball': 7, 'dog': 6, 'elephant': 5}\n",
    "\n",
    "combined_dict = {**dict1, **dict2}\n",
    "\n",
    "print(\"Combined Dictionary:\", combined_dict)\n"
   ]
  }
 ],
 "metadata": {
  "kernelspec": {
   "display_name": "Python 3",
   "language": "python",
   "name": "python3"
  },
  "language_info": {
   "codemirror_mode": {
    "name": "ipython",
    "version": 3
   },
   "file_extension": ".py",
   "mimetype": "text/x-python",
   "name": "python",
   "nbconvert_exporter": "python",
   "pygments_lexer": "ipython3",
   "version": "3.12.0"
  }
 },
 "nbformat": 4,
 "nbformat_minor": 2
}
