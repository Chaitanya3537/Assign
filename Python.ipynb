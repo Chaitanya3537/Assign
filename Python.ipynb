{
 "cells": [
  {
   "cell_type": "code",
   "execution_count": 20,
   "metadata": {},
   "outputs": [
    {
     "name": "stdout",
     "output_type": "stream",
     "text": [
      "Last three characters: nya\n"
     ]
    }
   ],
   "source": [
    "# 1.Given a string, write a Python program to extract the last three characters from the string and print them\n",
    "\n",
    "string = \"Chaitanya\"\n",
    "\n",
    "print(\"Last three characters:\", string[-3:])"
   ]
  },
  {
   "cell_type": "code",
   "execution_count": 21,
   "metadata": {},
   "outputs": [
    {
     "name": "stdout",
     "output_type": "stream",
     "text": [
      "Modified string: HeLLoHeLLo\n"
     ]
    }
   ],
   "source": [
    "# 2. You are given a string. Write a Python program to replace all occurrences of the character 'l' (lowercase L) with 'L' (uppercase L) and \n",
    "      # print the modified string.\n",
    "\n",
    "string1 = \"HelloHello\"\n",
    "\n",
    "string2 = string1.replace('l', 'L')\n",
    "\n",
    "print(\"Modified string:\", string2)\n",
    "\n",
    "\n"
   ]
  },
  {
   "cell_type": "code",
   "execution_count": 24,
   "metadata": {},
   "outputs": [
    {
     "name": "stdout",
     "output_type": "stream",
     "text": [
      "False\n"
     ]
    }
   ],
   "source": [
    "# 3. Write a Python program to check if a given integer is even. If the integer is even, print True; otherwise, print False \n",
    "\n",
    "x = int(input(\"Enter an integer: \")) \n",
    "\n",
    "if x % 2 == 0:  \n",
    "    print(True)  \n",
    "else:\n",
    "    print(False)  \n"
   ]
  },
  {
   "cell_type": "code",
   "execution_count": 27,
   "metadata": {},
   "outputs": [
    {
     "name": "stdout",
     "output_type": "stream",
     "text": [
      "True\n"
     ]
    }
   ],
   "source": [
    "# 4. Write a Python program to check if a given integer is divisible by both 3 and 5. \n",
    "   # If the integer is divisible by both, print True; otherwise, print False\n",
    "\n",
    "x = int(input(\"Enter an integer: \"))  \n",
    "\n",
    "if x % 3 == 0 and x % 5 == 0:  \n",
    "    print(True)  \n",
    "else:\n",
    "    print(False)  \n"
   ]
  },
  {
   "cell_type": "code",
   "execution_count": 33,
   "metadata": {},
   "outputs": [
    {
     "name": "stdout",
     "output_type": "stream",
     "text": [
      "orange Banana Banana Banana Banana.\n"
     ]
    }
   ],
   "source": [
    "# 5. Given a string containing multiple occurrences of the word 'banana', \n",
    "# write a Python program to replace only the first occurrence of 'banana' with 'orange' and print the modified string.\n",
    "\n",
    "string1 = \"Banana Banana Banana Banana Banana.\"\n",
    "\n",
    "string2 = string1.replace('Banana', 'orange', 1)\n",
    "\n",
    "print(string2)\n"
   ]
  },
  {
   "cell_type": "code",
   "execution_count": 39,
   "metadata": {},
   "outputs": [
    {
     "name": "stdout",
     "output_type": "stream",
     "text": [
      "14.142135623730951\n"
     ]
    }
   ],
   "source": [
    "# 6. Given two tuples representing coordinates (x, y) of two points, write a Python program to calculate the Euclidean distance between them.\n",
    "\n",
    "import math\n",
    "\n",
    "a = (10, 20)\n",
    "b = (20, 30)\n",
    "\n",
    "print(math.sqrt((b[0] - a[0])**2 + (b[1] - a[1])**2))\n"
   ]
  },
  {
   "cell_type": "code",
   "execution_count": 40,
   "metadata": {},
   "outputs": [
    {
     "name": "stdout",
     "output_type": "stream",
     "text": [
      "Set containing common elements: {'A', 'L', 'E', 'P'}\n"
     ]
    }
   ],
   "source": [
    "#. 7 Write a Python program that takes two sets as input and returns a new set containing only the elements that are common to both sets.\n",
    "\n",
    "setA = {\"A\", \"P\", \"P\", \"L\", \"E\"}\n",
    "setB = {\"P\", \"I\", \"N\", \"E\", \"A\", \"P\", \"P\", \"L\", \"E\"}\n",
    "\n",
    "setNew = setA & setB\n",
    "\n",
    "print(\"Set containing common elements:\", setNew)\n"
   ]
  }
 ],
 "metadata": {
  "kernelspec": {
   "display_name": "Python 3",
   "language": "python",
   "name": "python3"
  },
  "language_info": {
   "codemirror_mode": {
    "name": "ipython",
    "version": 3
   },
   "file_extension": ".py",
   "mimetype": "text/x-python",
   "name": "python",
   "nbconvert_exporter": "python",
   "pygments_lexer": "ipython3",
   "version": "3.12.0"
  }
 },
 "nbformat": 4,
 "nbformat_minor": 2
}
