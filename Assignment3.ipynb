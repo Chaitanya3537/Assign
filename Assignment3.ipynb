{
 "cells": [
  {
   "cell_type": "code",
   "execution_count": 2,
   "metadata": {},
   "outputs": [
    {
     "name": "stdout",
     "output_type": "stream",
     "text": [
      "Before: 5\n",
      "After: 10\n"
     ]
    }
   ],
   "source": [
    "#1.  Define a global variable x with value 5. Write a Python function update_x() that tries to modify the global variable x to 10.\n",
    "#    Print the value of x before and after calling the function.\n",
    "x = 5\n",
    "\n",
    "def update_x():\n",
    "    global x\n",
    "    x = 10\n",
    "\n",
    "print(\"Before:\", x)\n",
    "update_x()\n",
    "print(\"After:\", x)"
   ]
  },
  {
   "cell_type": "code",
   "execution_count": 3,
   "metadata": {},
   "outputs": [
    {
     "name": "stdout",
     "output_type": "stream",
     "text": [
      "Addition of 8 and 9 is: 17\n",
      "Multiplication of 8 and 9 is: 72\n"
     ]
    }
   ],
   "source": [
    "#2. Create a Python module named calculator.py with functions add(a, b) and multiply(a, b).\n",
    "# Import this module into another Python script and use these functions to add and multiply two numbers.\n",
    "\n",
    "import calculator\n",
    "\n",
    "addition_result = calculator.add(8, 9)\n",
    "print(\"Addition of 8 and 9 is:\", addition_result)\n",
    "\n",
    "multiplication_result = calculator.multiply(8, 9)\n",
    "print(\"Multiplication of 8 and 9 is:\", multiplication_result)"
   ]
  },
  {
   "cell_type": "code",
   "execution_count": 6,
   "metadata": {},
   "outputs": [
    {
     "name": "stdout",
     "output_type": "stream",
     "text": [
      "No.of days in between :  31 days, 0:00:00\n"
     ]
    }
   ],
   "source": [
    "#3. Write a Python function to find the number of days between two given dates.\n",
    "\n",
    "from datetime import date\n",
    "\n",
    "start_date = date(2024, 5, 25)\n",
    "\n",
    "end_date = date(2024, 6, 25)\n",
    "\n",
    "due = end_date - start_date\n",
    "\n",
    "print(\"No.of days in between : \",due)"
   ]
  },
  {
   "cell_type": "code",
   "execution_count": 8,
   "metadata": {},
   "outputs": [
    {
     "name": "stdout",
     "output_type": "stream",
     "text": [
      "Factorial of  5  :  120\n"
     ]
    }
   ],
   "source": [
    "#4 .Write a Python function to calculate the factorial of a given number n.\n",
    "\n",
    "n = 5\n",
    "\n",
    "import math\n",
    "\n",
    "fact = math.factorial(n)\n",
    "\n",
    "print(\"Factorial of \",n,\" : \",fact)"
   ]
  },
  {
   "cell_type": "code",
   "execution_count": null,
   "metadata": {},
   "outputs": [],
   "source": [
    "# 5. Given a JSON string representing a dictionary, write a Python function to convert it into a Python dictionary object."
   ]
  }
 ],
 "metadata": {
  "kernelspec": {
   "display_name": "Python 3",
   "language": "python",
   "name": "python3"
  },
  "language_info": {
   "codemirror_mode": {
    "name": "ipython",
    "version": 3
   },
   "file_extension": ".py",
   "mimetype": "text/x-python",
   "name": "python",
   "nbconvert_exporter": "python",
   "pygments_lexer": "ipython3",
   "version": "3.12.0"
  }
 },
 "nbformat": 4,
 "nbformat_minor": 2
}
