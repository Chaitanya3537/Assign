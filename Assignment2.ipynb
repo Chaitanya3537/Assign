{
 "cells": [
  {
   "cell_type": "code",
   "execution_count": 4,
   "metadata": {},
   "outputs": [
    {
     "name": "stdout",
     "output_type": "stream",
     "text": [
      "Length of the rectangle: 5\n",
      "Width of the rectangle: 10\n",
      "Area of the rectangle: 50\n",
      "Perimeter of the rectangle: 30\n"
     ]
    }
   ],
   "source": [
    "# 1. Create a Python class named Rectangle with attributes length and width. Implement methods to calculate the area and \n",
    "#    perimeter of the rectangle.\n",
    "\n",
    "class Rectangle:\n",
    "    def __init__(self, length, width):\n",
    "        self.length = length\n",
    "        self.width = width\n",
    "        \n",
    "    def area(self):\n",
    "        return self.length * self.width\n",
    "        \n",
    "    def perimeter(self):\n",
    "        return 2 * (self.length + self.width)\n",
    "\n",
    "rect= Rectangle(5, 10)\n",
    "\n",
    "print(\"Length of the rectangle:\",  rect.length)\n",
    "print(\"Width of the rectangle:\",  rect.width)\n",
    "print(\"Area of the rectangle:\",  rect.area())\n",
    "print(\"Perimeter of the rectangle:\",  rect.perimeter())\n"
   ]
  },
  {
   "cell_type": "code",
   "execution_count": 6,
   "metadata": {},
   "outputs": [
    {
     "name": "stdout",
     "output_type": "stream",
     "text": [
      "Area Of Circle: 78.53981633974483\n",
      "Circumference Of the Circle: 31.41592653589793\n"
     ]
    }
   ],
   "source": [
    "# 2. Create a Python class Circle with attribute radius. Implement methods to calculate the area and circumference of the circle.\n",
    "\n",
    "import math\n",
    "\n",
    "class Circle:\n",
    "    def __init__(self, radius):\n",
    "        self.radius = radius\n",
    "    \n",
    "    def area(self):\n",
    "        return math.pi * (self.radius ** 2)\n",
    "    \n",
    "    def circumference(self):\n",
    "        return 2 * math.pi * self.radius\n",
    "\n",
    "circle = Circle(5)\n",
    "\n",
    "print(\"Area Of Circle:\", circle.area())\n",
    "\n",
    "print(\"Circumference Of the Circle:\", circle.circumference())\n",
    "\n"
   ]
  },
  {
   "cell_type": "code",
   "execution_count": 7,
   "metadata": {},
   "outputs": [
    {
     "name": "stdout",
     "output_type": "stream",
     "text": [
      "Name: Chaitanya\n",
      "Salary: 400000\n",
      "Designation: Software Engineer\n"
     ]
    }
   ],
   "source": [
    "# 3. Create a Python class Employee with attributes name, salary, and designation. Implement a method to display employee details.\n",
    "\n",
    "\n",
    "class Employee:\n",
    "    def __init__(self, name, salary, designation):\n",
    "        self.name = name\n",
    "        self.salary = salary\n",
    "        self.designation = designation\n",
    "    \n",
    "    def display_details(self):\n",
    "        print(\"Name:\", self.name)\n",
    "        print(\"Salary:\", self.salary)\n",
    "        print(\"Designation:\", self.designation)\n",
    "\n",
    "emp = Employee(\"Chaitanya\", 400000, \"Software Engineer\")\n",
    "\n",
    "emp.display_details()\n",
    "\n"
   ]
  },
  {
   "cell_type": "code",
   "execution_count": 9,
   "metadata": {},
   "outputs": [
    {
     "name": "stdout",
     "output_type": "stream",
     "text": [
      "Available Balance: 1000\n",
      "Available Balance: 500\n",
      "Insufficient Funds\n"
     ]
    }
   ],
   "source": [
    "# 4. Create a Python class BankAccount with attributes balance. Implement methods to deposit and withdraw money from the account.\n",
    "\n",
    "class BankAccount:\n",
    "    def __init__(self):\n",
    "        self.balance = 0\n",
    "    \n",
    "    def deposit(self, amount):\n",
    "        self.balance += amount\n",
    "    \n",
    "    def withdraw(self, amount):\n",
    "        self.balance -= amount\n",
    "\n",
    "account = BankAccount()\n",
    "\n",
    "account.deposit(1000)\n",
    "print(\"Available Balance:\", account.balance)\n",
    "\n",
    "account.withdraw(500)\n",
    "print(\"Available Balance:\", account.balance)\n",
    "\n",
    "account.withdraw(2000)  \n",
    "print(\"Insufficient Funds\")  \n"
   ]
  },
  {
   "cell_type": "code",
   "execution_count": 10,
   "metadata": {},
   "outputs": [
    {
     "name": "stdout",
     "output_type": "stream",
     "text": [
      "Chaitanya is eligible for graduation\n",
      "Sai Krishna is not eligible for graduation\n"
     ]
    }
   ],
   "source": [
    "# 5. Create a Python class Student with attributes name, age, and grade. Implement a method to determine if a student is eligible for \n",
    "#    graduation based on their grade (>= 70).\n",
    "\n",
    "class Student:\n",
    "    def __init__(self, name, age, grade):\n",
    "        self.name = name\n",
    "        self.age = age\n",
    "        self.grade = grade\n",
    "    \n",
    "    def is_eligible_for_graduation(self):\n",
    "        return self.grade >= 70\n",
    "\n",
    "student1 = Student(\"Chaitanya\", 10, 75)\n",
    "\n",
    "if student1.is_eligible_for_graduation():\n",
    "    print(student1.name + \" is eligible for graduation\")\n",
    "else:\n",
    "    print(student1.name + \" is not eligible for graduation\")\n",
    "\n",
    "student2 = Student(\"Sai Krishna\", 20, 65)\n",
    "\n",
    "if student2.is_eligible_for_graduation():\n",
    "    print(student2.name + \" is eligible for graduation\")\n",
    "else:\n",
    "    print(student2.name + \" is not eligible for graduation\")\n",
    "\n"
   ]
  },
  {
   "cell_type": "code",
   "execution_count": 24,
   "metadata": {},
   "outputs": [
    {
     "name": "stdout",
     "output_type": "stream",
     "text": [
      "Make: Ferrari\n",
      "Model: Roma\n",
      "Year: 2023\n",
      "Make: Honda\n",
      "Model: City\n",
      "Year: 2024\n"
     ]
    }
   ],
   "source": [
    "# 6. Create a Python class Car with attributes make, model, and year. Implement a method to display the car's details.\n",
    "\n",
    "class Car:\n",
    "    def __init__(self, make, model, year):\n",
    "        self.make = make\n",
    "        self.model = model\n",
    "        self.year = year\n",
    "    \n",
    "    def display_details(self):\n",
    "        print(\"Make:\", self.make)\n",
    "        print(\"Model:\", self.model)\n",
    "        print(\"Year:\", self.year)\n",
    "\n",
    "car1 = Car(\"Ferrari\", \"Roma\", 2023)\n",
    "car1.display_details()\n",
    "\n",
    "car2 = Car(\"Honda\", \"City\", 2024)\n",
    "car2.display_details()\n",
    "\n",
    "\n",
    "\n"
   ]
  },
  {
   "cell_type": "code",
   "execution_count": 14,
   "metadata": {},
   "outputs": [
    {
     "name": "stdout",
     "output_type": "stream",
     "text": [
      "Book: Python Programming\n",
      "Original Price: 50\n",
      "Discounted Price: 45.0\n",
      "Book: Java Programming\n",
      "Original Price: 40\n",
      "Discounted Price: 32.0\n"
     ]
    }
   ],
   "source": [
    "# 7. Create a Python class Book with attributes title, author, and price. Implement a method to discount the book price\n",
    "#     by a certain percentage.\n",
    "\n",
    "class Book:\n",
    "    def __init__(self, title, author, price):\n",
    "        self.title = title\n",
    "        self.author = author\n",
    "        self.price = price\n",
    "    \n",
    "    def discount_price(self, percentage):\n",
    "        self.price -= self.price * (percentage / 100)\n",
    "\n",
    "book1 = Book(\"Python Programming\", \"Guido Van Rossum\", 50)\n",
    "print(\"Book:\", book1.title)\n",
    "print(\"Original Price:\", book1.price)\n",
    "book1.discount_price(10)  \n",
    "print(\"Discounted Price:\", book1.price)\n",
    "\n",
    "book2 = Book(\"Java Programming\", \"James Gosling\", 40)\n",
    "print(\"Book:\", book2.title)\n",
    "print(\"Original Price:\", book2.price)\n",
    "book2.discount_price(20)  \n",
    "print(\"Discounted Price:\", book2.price)\n",
    "\n"
   ]
  },
  {
   "cell_type": "code",
   "execution_count": 15,
   "metadata": {},
   "outputs": [
    {
     "name": "stdout",
     "output_type": "stream",
     "text": [
      "Bank Name: HDFC Bank\n",
      "Location: Mumbai\n",
      "Bank Name: ICICI Bank\n",
      "Location: Hyderabad\n"
     ]
    }
   ],
   "source": [
    "# 8. Create a Python class Bank with attributes name and location. Implement a method to display the bank's details.\n",
    "\n",
    "class Bank:\n",
    "    def __init__(self, name, location):\n",
    "        self.name = name\n",
    "        self.location = location\n",
    "    \n",
    "    def display_details(self):\n",
    "        print(\"Bank Name:\", self.name)\n",
    "        print(\"Location:\", self.location)\n",
    "\n",
    "bank1 = Bank(\"HDFC Bank\", \"Mumbai\")\n",
    "bank1.display_details()\n",
    "\n",
    "bank2 = Bank(\"ICICI Bank\", \"Hyderabad\")\n",
    "bank2.display_details()\n"
   ]
  },
  {
   "cell_type": "code",
   "execution_count": 18,
   "metadata": {},
   "outputs": [
    {
     "name": "stdout",
     "output_type": "stream",
     "text": [
      "Buddy is not a puppy? False\n",
      "Teddy is a puppy? True\n"
     ]
    }
   ],
   "source": [
    "# 9. Create a Python class Dog with attributes name and age. Implement a method to determine if the dog is a puppy (age < 1).\n",
    "\n",
    "class Dog:\n",
    "    def __init__(self, name, age):\n",
    "        self.name = name\n",
    "        self.age = age\n",
    "    \n",
    "    def is_puppy(self):\n",
    "        return self.age < 1\n",
    "\n",
    "# Example usage:\n",
    "dog1 = Dog(\"Buddy\", 2)\n",
    "print(dog1.name, \"is not a puppy?\" , dog1.is_puppy())\n",
    "\n",
    "dog2 = Dog(\"Teddy\", 0.5)\n",
    "print(dog2.name, \"is a puppy?\" , dog2.is_puppy())\n",
    "\n"
   ]
  },
  {
   "cell_type": "code",
   "execution_count": 23,
   "metadata": {},
   "outputs": [
    {
     "name": "stdout",
     "output_type": "stream",
     "text": [
      "Area of Triangle: 20.0\n",
      "Area of Square: 36\n"
     ]
    }
   ],
   "source": [
    "# 10. Create a Python class Shape with an abstract method area().\n",
    "#     Implement subclasses Triangle and Square with their own implementations of the area() method.\n",
    "\n",
    "from abc import ABC, abstractmethod\n",
    "\n",
    "class Shape(ABC):\n",
    "    @abstractmethod\n",
    "    def area(self):\n",
    "        pass\n",
    "\n",
    "class Triangle(Shape):\n",
    "    def area(self, base, height):\n",
    "        return base * height / 2\n",
    "\n",
    "class Square(Shape):\n",
    "    def area(self, side):\n",
    "        return side * side\n",
    "\n",
    "tri = Triangle()\n",
    "print(\"Area of Triangle:\", tri.area(5, 8)) \n",
    "\n",
    "squa = Square()\n",
    "print(\"Area of Square:\", squa.area(6)) \n",
    "\n"
   ]
  }
 ],
 "metadata": {
  "kernelspec": {
   "display_name": "Python 3",
   "language": "python",
   "name": "python3"
  },
  "language_info": {
   "codemirror_mode": {
    "name": "ipython",
    "version": 3
   },
   "file_extension": ".py",
   "mimetype": "text/x-python",
   "name": "python",
   "nbconvert_exporter": "python",
   "pygments_lexer": "ipython3",
   "version": "3.12.0"
  }
 },
 "nbformat": 4,
 "nbformat_minor": 2
}
